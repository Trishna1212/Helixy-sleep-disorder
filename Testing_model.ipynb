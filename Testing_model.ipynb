{
 "cells": [
  {
   "cell_type": "code",
   "execution_count": 1,
   "id": "a2cb06dd-d656-4518-b30e-4188f977a798",
   "metadata": {},
   "outputs": [
    {
     "name": "stderr",
     "output_type": "stream",
     "text": [
      "Cloning into 'Helixy-sleep-disorder'...\n"
     ]
    },
    {
     "name": "stdout",
     "output_type": "stream",
     "text": [
      "Repository cloned successfully!\n",
      "Model file found in GitHub repository!\n"
     ]
    }
   ],
   "source": [
    "import os\n",
    "\n",
    "# Define GitHub repository details\n",
    "GITHUB_USERNAME = \"Trishna1212\"\n",
    "REPO_NAME = \"Helixy-sleep-disorder\"\n",
    "MODEL_FILENAME = \"helixy_sleep_disorder_model.pkl\"\n",
    "\n",
    "# Clone the repository (if not already cloned)\n",
    "if not os.path.exists(REPO_NAME):\n",
    "    os.system(f\"git clone https://github.com/{GITHUB_USERNAME}/{REPO_NAME}.git\")\n",
    "    print(\"Repository cloned successfully!\")\n",
    "\n",
    "# Move into the project directory\n",
    "os.chdir(REPO_NAME)\n",
    "\n",
    "# Verify if the model file exists\n",
    "if os.path.exists(MODEL_FILENAME):\n",
    "    print(\"Model file found in GitHub repository!\")\n",
    "else:\n",
    "    print(\"Model file not found. Please check GitHub repository.\")\n"
   ]
  },
  {
   "cell_type": "code",
   "execution_count": 2,
   "id": "79bd5622-51ae-48fd-b9ec-2cbe0c09825c",
   "metadata": {},
   "outputs": [
    {
     "name": "stdout",
     "output_type": "stream",
     "text": [
      "Model loaded successfully!\n",
      "Expected Features: ['Age', 'Sleep Duration', 'Quality of Sleep', 'Physical Activity Level', 'Stress Level', 'Heart Rate', 'Daily Steps']\n"
     ]
    }
   ],
   "source": [
    "import joblib\n",
    "\n",
    "# Load the model along with feature names\n",
    "model, feature_columns = joblib.load(\"helixy_sleep_disorder_model.pkl\")\n",
    "\n",
    "print(\"Model loaded successfully!\")\n",
    "print(\"Expected Features:\", feature_columns)\n"
   ]
  },
  {
   "cell_type": "code",
   "execution_count": 7,
   "id": "121c08d9-e1c5-426a-ad7d-a29e4715f397",
   "metadata": {},
   "outputs": [
    {
     "name": "stdout",
     "output_type": "stream",
     "text": [
      "Sleep Disorder Prediction: No Disorder\n"
     ]
    },
    {
     "name": "stderr",
     "output_type": "stream",
     "text": [
      "/Users/sandeshneupane/Library/Python/3.8/lib/python/site-packages/sklearn/base.py:465: UserWarning: X does not have valid feature names, but DecisionTreeClassifier was fitted with feature names\n",
      "  warnings.warn(\n"
     ]
    }
   ],
   "source": [
    "import numpy as np\n",
    "\n",
    "# Define a test person's data using only the relevant features\n",
    "test_person = np.array([[30, 6.5, 7, 60, 6, 72, 8000]])  # Ensure correct order\n",
    "\n",
    "# Make a prediction\n",
    "prediction = model.predict(test_person)\n",
    "\n",
    "# Display the result\n",
    "result = \"Has Disorder\" if prediction[0] == 1 else \"No Disorder\"\n",
    "print(f\"Sleep Disorder Prediction: {result}\")\n"
   ]
  },
  {
   "cell_type": "code",
   "execution_count": null,
   "id": "8693da31-5ce7-48ac-8d33-5ad0059951b0",
   "metadata": {},
   "outputs": [],
   "source": []
  }
 ],
 "metadata": {
  "kernelspec": {
   "display_name": "Python 3 (ipykernel)",
   "language": "python",
   "name": "python3"
  },
  "language_info": {
   "codemirror_mode": {
    "name": "ipython",
    "version": 3
   },
   "file_extension": ".py",
   "mimetype": "text/x-python",
   "name": "python",
   "nbconvert_exporter": "python",
   "pygments_lexer": "ipython3",
   "version": "3.8.10"
  }
 },
 "nbformat": 4,
 "nbformat_minor": 5
}
